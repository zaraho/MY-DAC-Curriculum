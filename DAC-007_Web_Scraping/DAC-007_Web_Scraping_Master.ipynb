{
 "cells": [
  {
   "cell_type": "markdown",
   "metadata": {
    "id": "fqNYPFSANcDb"
   },
   "source": [
    "\n",
    "## What is Web Scraping?\n",
    "* Extracting data from internet\n",
    "* Extracted data is collected and then changed into a suitable format that is useful for the user (i.e. CSV)\n",
    "* Extract all data from the page or specific data selected by the user before it is run\n",
    "* Specific data requires techniques to identify CSS and Javascript element corresponds to required data\n",
    "* User checks through the data, confirming scraper works properly\n",
    "* Web scraper outputs the data collected\n",
    "* Collected data can then be changed into a suitable format"
   ]
  },
  {
   "cell_type": "markdown",
   "metadata": {
    "id": "2q5eIaojOM_9"
   },
   "source": [
    "What are web scrapers used for\n",
    "* Extracting information from the net\n",
    "* Depending problem statement and the type of analysis the data will be run on"
   ]
  },
  {
   "cell_type": "markdown",
   "metadata": {
    "id": "sZmKWOr0OiLY"
   },
   "source": [
    "Types of websites\n",
    "* Static: the content of page does not change e.g. history sites\n",
    "* Dynamic: content of the page, hence it is never the same at any point of time e.g. e-commerce sites"
   ]
  },
  {
   "cell_type": "markdown",
   "metadata": {
    "id": "wWVPrYuWO43Y"
   },
   "source": [
    "Beautiful Soup\n",
    "* One of the most commonly used parsing libraries\n",
    "* Very useful in pulling out information from the HTML page"
   ]
  },
  {
   "cell_type": "markdown",
   "metadata": {
    "id": "g1DzjSQvPFhV"
   },
   "source": [
    "## 1. Download/Import libraries"
   ]
  },
  {
   "cell_type": "code",
   "execution_count": null,
   "metadata": {},
   "outputs": [],
   "source": [
    "# !pip install urllib\n",
    "# !pip install bs4\n",
    "# !pip install requests\n",
    "# !pip install pprint"
   ]
  },
  {
   "cell_type": "code",
   "execution_count": null,
   "metadata": {
    "id": "QaARqfq3OyqJ"
   },
   "outputs": [],
   "source": [
    "# Import libraries\n",
    "import pandas as pd\n",
    "import urllib\n",
    "import urllib.request\n",
    "from bs4 import BeautifulSoup\n",
    "import requests\n",
    "from pprint import pprint #pretty print helps for formatting"
   ]
  },
  {
   "cell_type": "markdown",
   "metadata": {
    "id": "WZRBLU8uP5Nl"
   },
   "source": [
    "## 2. Scraping Basic Knowledge"
   ]
  },
  {
   "cell_type": "code",
   "execution_count": null,
   "metadata": {
    "id": "yyYqpV35P4eH"
   },
   "outputs": [],
   "source": [
    "#1. Scraping HTML\n",
    "url = \"https://forecast.weather.gov/MapClick.php?lat=37.7772&lon=-122.4168\"\n",
    "page = requests.get(url)"
   ]
  },
  {
   "cell_type": "code",
   "execution_count": 3,
   "metadata": {
    "id": "GuZ7xgfGU7zm"
   },
   "outputs": [
    {
     "data": {
      "text/plain": [
       "<Response [200]>"
      ]
     },
     "execution_count": 3,
     "metadata": {},
     "output_type": "execute_result"
    }
   ],
   "source": [
    "page\n",
    "#Informational responses (100–199)\n",
    "#Successful responses (200–299)\n",
    "#Redirection messages (300–399)\n",
    "#Client error responses (400–499)\n",
    "#Server error responses (500–599)"
   ]
  },
  {
   "cell_type": "code",
   "execution_count": null,
   "metadata": {
    "id": "Ph4sL3ptQRlv"
   },
   "outputs": [],
   "source": [
    "#2. Make HTML looks more presentable / has indentation\n",
    "soup = BeautifulSoup(page.content, 'html.parser')\n",
    "# print(soup) # Just to compare between using and not using prettify\n",
    "print(soup.prettify())"
   ]
  },
  {
   "cell_type": "code",
   "execution_count": null,
   "metadata": {
    "id": "1anM08d-QtEv"
   },
   "outputs": [],
   "source": [
    "# 3. How to find information of tags from HTML\n",
    "#  a) Finding all instances of a tag using find_all\n",
    "\n",
    "soup.find_all('p')"
   ]
  },
  {
   "cell_type": "code",
   "execution_count": 16,
   "metadata": {
    "id": "027zz-RVRGcN"
   },
   "outputs": [
    {
     "data": {
      "text/plain": [
       "'Your local forecast office is'"
      ]
     },
     "execution_count": 16,
     "metadata": {},
     "output_type": "execute_result"
    }
   ],
   "source": [
    "# get_text() function extract text\n",
    "\n",
    "soup.find_all('p')[1].get_text()\n",
    "# Count the statements in between the \"p\"s, notice the index 1 statement"
   ]
  },
  {
   "cell_type": "code",
   "execution_count": 15,
   "metadata": {
    "id": "Z3hioZBGXcsG"
   },
   "outputs": [
    {
     "data": {
      "text/plain": [
       "'\\n                    A significant arctic outbreak will spread over the northern Plains on Thanksgiving and advance farther south and east on Friday into the weekend. Much of the lower 48 states will see freezing temperatures with dangerous wind chills in the northern Plains. Heavy lake effect snow is likely downwind of the Great Lakes. Rain is forecast from southern New England into the Southeast U.S.\\n                                                                Read More >\\n'"
      ]
     },
     "execution_count": 15,
     "metadata": {},
     "output_type": "execute_result"
    }
   ],
   "source": [
    "# Get statement from index 2\n",
    "soup.find_all('p')[2].get_text()"
   ]
  },
  {
   "cell_type": "code",
   "execution_count": null,
   "metadata": {
    "id": "GsmdCzeLRch0"
   },
   "outputs": [
    {
     "data": {
      "text/plain": [
       "<p>\n",
       "<input checked=\"checked\" id=\"nws\" name=\"affiliate\" type=\"radio\" value=\"nws.noaa.gov\"/>\n",
       "<label class=\"search-scope\" for=\"nws\">NWS</label>\n",
       "<input id=\"noaa\" name=\"affiliate\" type=\"radio\" value=\"noaa.gov\"/>\n",
       "<label class=\"search-scope\" for=\"noaa\">All NOAA</label>\n",
       "</p>"
      ]
     },
     "execution_count": 17,
     "metadata": {},
     "output_type": "execute_result"
    }
   ],
   "source": [
    "# 3b) Finding the first instance of tag using find()\n",
    "soup.find('p')"
   ]
  },
  {
   "cell_type": "code",
   "execution_count": 18,
   "metadata": {
    "id": "vIrq5ZRBYGz1"
   },
   "outputs": [
    {
     "data": {
      "text/plain": [
       "'\\n\\nNWS\\n\\nAll NOAA\\n'"
      ]
     },
     "execution_count": 18,
     "metadata": {},
     "output_type": "execute_result"
    }
   ],
   "source": [
    "# This is a get_text function, all the those with =\"\" are not text\n",
    "soup.find_all('p')[0].get_text()"
   ]
  },
  {
   "cell_type": "code",
   "execution_count": null,
   "metadata": {
    "id": "cDDKLRJDeNRF"
   },
   "outputs": [
    {
     "data": {
      "text/plain": [
       "['NWS', 'All', 'NOAA']"
      ]
     },
     "execution_count": 19,
     "metadata": {},
     "output_type": "execute_result"
    }
   ],
   "source": [
    "# Split up a string into a list\n",
    "soup.find_all('p')[0].get_text().rsplit()"
   ]
  },
  {
   "cell_type": "code",
   "execution_count": 20,
   "metadata": {
    "id": "WnMl-w2WR14s"
   },
   "outputs": [
    {
     "data": {
      "text/plain": [
       "[<p class=\"period-name\">Today</p>,\n",
       " <p class=\"period-name\">Tonight</p>,\n",
       " <p class=\"period-name\">Thanksgiving Day</p>,\n",
       " <p class=\"period-name\">Thursday Night</p>,\n",
       " <p class=\"period-name\">Friday</p>,\n",
       " <p class=\"period-name\">Friday Night</p>,\n",
       " <p class=\"period-name\">Saturday</p>,\n",
       " <p class=\"period-name\">Saturday Night</p>,\n",
       " <p class=\"period-name\">Sunday</p>]"
      ]
     },
     "execution_count": 20,
     "metadata": {},
     "output_type": "execute_result"
    }
   ],
   "source": [
    "#c) Search for tags by class or id\n",
    "\n",
    "# Find tags with class period-name\n",
    "soup.find_all(class_= 'period-name')\n",
    "# Reason why the class does not require quotations: it is a CSS selector, hence recognised by the Python language\n",
    "# The reason why we put an underscore after the class is because class is a function inbuilt in the Python system, \n",
    "# therefore underscore '_' tells the system to get the CSS selector instead"
   ]
  },
  {
   "cell_type": "code",
   "execution_count": 21,
   "metadata": {
    "id": "msX6kWXqSKWv"
   },
   "outputs": [
    {
     "data": {
      "text/plain": [
       "[<div id=\"news-items\">\n",
       " <div id=\"topnews\">\n",
       " <div class=\"icon\"><img src=\"/bundles/templating/images/top_news/important.png\"/></div>\n",
       " <div class=\"body\">\n",
       " <h1 style=\"font-size: 11pt;\">Arctic Blast Set to Arrive on Thanksgiving; Dangerous Wind Chills with Lake Effect Snow </h1>\n",
       " <p>\n",
       "                     A significant arctic outbreak will spread over the northern Plains on Thanksgiving and advance farther south and east on Friday into the weekend. Much of the lower 48 states will see freezing temperatures with dangerous wind chills in the northern Plains. Heavy lake effect snow is likely downwind of the Great Lakes. Rain is forecast from southern New England into the Southeast U.S.\n",
       "                                                                 <a href=\"http://www.wpc.ncep.noaa.gov/discussions/hpcdiscussions.php?disc=pmdspd\" target=\"_blank\">Read More &gt;</a>\n",
       " </p>\n",
       " </div>\n",
       " </div>\n",
       " </div>]"
      ]
     },
     "execution_count": 21,
     "metadata": {},
     "output_type": "execute_result"
    }
   ],
   "source": [
    "# Find tags with id news-items\n",
    "soup.find_all(id = \"news-items\")\n",
    "# Get whatever it is under or nested in the id 'news-items' (Refer to the soup code)\n",
    "# Reason why id is not required a quotation: it is a CSS selector, hence recognised by the Python language"
   ]
  },
  {
   "cell_type": "markdown",
   "metadata": {
    "id": "I1lrIRzhSV1e"
   },
   "source": [
    "## 3. Scraping for real now\n",
    "1. Download webpage containing the forecast\n",
    "2. Create a BeautifulSoup Class to parse the page\n",
    "3. Find the div with id seven-day-forecast and assgin to seven-day\n",
    "4. Inside seven-day, find each individual forecast item\n",
    "5. Extract and print the first forecast item\n",
    "6. Using the tag information found from Step 5, extract the following information: Period, Short Description, Temperature and Description of the condtions\n",
    "7. Format the extracted data into a pandas dataset"
   ]
  },
  {
   "cell_type": "code",
   "execution_count": null,
   "metadata": {
    "id": "hjH5idb-SVic"
   },
   "outputs": [],
   "source": [
    "# Show our current soup variable\n",
    "print(soup.prettify())"
   ]
  },
  {
   "cell_type": "code",
   "execution_count": null,
   "metadata": {
    "id": "FTWtdGhcgBta"
   },
   "outputs": [],
   "source": [
    "# Find the div with id seven-day-forecast and assign to seven-day\n",
    "seven_day = soup.find(id = \"seven-day-forecast\")\n",
    "print(seven_day.prettify())"
   ]
  },
  {
   "cell_type": "code",
   "execution_count": 24,
   "metadata": {
    "id": "kHzxQrVlgeTU"
   },
   "outputs": [
    {
     "name": "stdout",
     "output_type": "stream",
     "text": [
      "[<div class=\"tombstone-container\"><p class=\"period-name\">Today</p><p><img alt=\"Today: Sunny, with a high near 60. North northwest wind around 6 mph. \" class=\"forecast-icon\" src=\"newimages/medium/skc.png\" title=\"Today: Sunny, with a high near 60. North northwest wind around 6 mph. \"/></p><p class=\"temp temp-high\">High: 60 °F</p><p class=\"short-desc\">Sunny</p></div>, <div class=\"tombstone-container\"><p class=\"period-name\">Tonight</p><p><img alt=\"Tonight: Clear, with a low around 43. Light northeast wind. \" class=\"forecast-icon\" src=\"newimages/medium/nskc.png\" title=\"Tonight: Clear, with a low around 43. Light northeast wind. \"/></p><p class=\"temp temp-low\">Low: 43 °F</p><p class=\"short-desc\">Clear</p></div>, <div class=\"tombstone-container\"><p class=\"period-name\">Thanksgiving Day</p><p><img alt=\"Thanksgiving Day: Sunny, with a high near 60. Northeast wind 6 to 8 mph. \" class=\"forecast-icon\" src=\"newimages/medium/few.png\" title=\"Thanksgiving Day: Sunny, with a high near 60. Northeast wind 6 to 8 mph. \"/></p><p class=\"temp temp-high\">High: 60 °F</p><p class=\"short-desc\">Sunny</p></div>, <div class=\"tombstone-container\"><p class=\"period-name\">Thursday Night</p><p><img alt=\"Thursday Night: Partly cloudy, with a low around 44. North northeast wind around 5 mph. \" class=\"forecast-icon\" src=\"newimages/medium/nsct.png\" title=\"Thursday Night: Partly cloudy, with a low around 44. North northeast wind around 5 mph. \"/></p><p class=\"temp temp-low\">Low: 44 °F</p><p class=\"short-desc\">Partly Cloudy</p></div>, <div class=\"tombstone-container\"><p class=\"period-name\">Friday</p><p><img alt=\"Friday: Sunny, with a high near 61. Northeast wind around 7 mph. \" class=\"forecast-icon\" src=\"newimages/medium/few.png\" title=\"Friday: Sunny, with a high near 61. Northeast wind around 7 mph. \"/></p><p class=\"temp temp-high\">High: 61 °F</p><p class=\"short-desc\">Sunny</p></div>, <div class=\"tombstone-container\"><p class=\"period-name\">Friday Night</p><p><img alt=\"Friday Night: Partly cloudy, with a low around 43.\" class=\"forecast-icon\" src=\"newimages/medium/nsct.png\" title=\"Friday Night: Partly cloudy, with a low around 43.\"/></p><p class=\"temp temp-low\">Low: 43 °F</p><p class=\"short-desc\">Partly Cloudy</p></div>, <div class=\"tombstone-container\"><p class=\"period-name\">Saturday</p><p><img alt=\"Saturday: Mostly sunny, with a high near 60.\" class=\"forecast-icon\" src=\"newimages/medium/sct.png\" title=\"Saturday: Mostly sunny, with a high near 60.\"/></p><p class=\"temp temp-high\">High: 60 °F</p><p class=\"short-desc\">Mostly Sunny</p></div>, <div class=\"tombstone-container\"><p class=\"period-name\">Saturday Night</p><p><img alt=\"Saturday Night: Partly cloudy, with a low around 46.\" class=\"forecast-icon\" src=\"newimages/medium/nsct.png\" title=\"Saturday Night: Partly cloudy, with a low around 46.\"/></p><p class=\"temp temp-low\">Low: 46 °F</p><p class=\"short-desc\">Partly Cloudy</p></div>, <div class=\"tombstone-container\"><p class=\"period-name\">Sunday</p><p><img alt=\"Sunday: Sunny, with a high near 62.\" class=\"forecast-icon\" src=\"newimages/medium/few.png\" title=\"Sunday: Sunny, with a high near 62.\"/></p><p class=\"temp temp-high\">High: 62 °F</p><p class=\"short-desc\">Sunny</p></div>]\n"
     ]
    }
   ],
   "source": [
    "# Step 4: Inside the seven day, find each individual forecast item\n",
    "forecast_items = seven_day.find_all(class_ = 'tombstone-container')\n",
    "print(forecast_items)"
   ]
  },
  {
   "cell_type": "code",
   "execution_count": 25,
   "metadata": {
    "id": "D_7ONqzOi638"
   },
   "outputs": [
    {
     "name": "stdout",
     "output_type": "stream",
     "text": [
      "<div class=\"tombstone-container\">\n",
      " <p class=\"period-name\">\n",
      "  Today\n",
      " </p>\n",
      " <p>\n",
      "  <img alt=\"Today: Sunny, with a high near 60. North northwest wind around 6 mph. \" class=\"forecast-icon\" src=\"newimages/medium/skc.png\" title=\"Today: Sunny, with a high near 60. North northwest wind around 6 mph. \"/>\n",
      " </p>\n",
      " <p class=\"temp temp-high\">\n",
      "  High: 60 °F\n",
      " </p>\n",
      " <p class=\"short-desc\">\n",
      "  Sunny\n",
      " </p>\n",
      "</div>\n",
      "\n"
     ]
    }
   ],
   "source": [
    "# Step 5: Extract and print the first forecast item\n",
    "tonight = forecast_items[0]\n",
    "print(tonight.prettify())"
   ]
  },
  {
   "cell_type": "code",
   "execution_count": null,
   "metadata": {
    "id": "MUV8cCqxjfZX"
   },
   "outputs": [
    {
     "name": "stdout",
     "output_type": "stream",
     "text": [
      "Today\n",
      "Sunny\n",
      "High: 60 °F\n"
     ]
    }
   ],
   "source": [
    "# Step 6: Using the tag information found from Step 5, extract the following information:\n",
    "# Period, Short Description, Temperature and Description of the condtions\n",
    "period = tonight.find(class_ = 'period-name').get_text()\n",
    "short_desc = tonight.find(class_ = 'short-desc').get_text()\n",
    "temp = tonight.find(class_ = 'temp').get_text()\n",
    "print(period)\n",
    "print(short_desc)\n",
    "print(temp)"
   ]
  },
  {
   "cell_type": "code",
   "execution_count": null,
   "metadata": {
    "id": "OpBvn_09kJqo"
   },
   "outputs": [
    {
     "name": "stdout",
     "output_type": "stream",
     "text": [
      "Today: Sunny, with a high near 60. North northwest wind around 6 mph. \n"
     ]
    }
   ],
   "source": [
    "# Description of the conditions\n",
    "img = tonight.find('img') # 'img' requires a quotation as it is not a CSS selector; not recognised by the Python\n",
    "desc = img['title'] # Same reasoning goes to the title; not a CSS selector\n",
    "print(desc)"
   ]
  },
  {
   "cell_type": "code",
   "execution_count": 28,
   "metadata": {
    "id": "E5qSwnJekBmB"
   },
   "outputs": [
    {
     "name": "stdout",
     "output_type": "stream",
     "text": [
      "[<p class=\"period-name\">Today</p>, <p class=\"period-name\">Tonight</p>, <p class=\"period-name\">Thanksgiving Day</p>, <p class=\"period-name\">Thursday Night</p>, <p class=\"period-name\">Friday</p>, <p class=\"period-name\">Friday Night</p>, <p class=\"period-name\">Saturday</p>, <p class=\"period-name\">Saturday Night</p>, <p class=\"period-name\">Sunday</p>]\n"
     ]
    },
    {
     "data": {
      "text/plain": [
       "['Today',\n",
       " 'Tonight',\n",
       " 'Thanksgiving Day',\n",
       " 'Thursday Night',\n",
       " 'Friday',\n",
       " 'Friday Night',\n",
       " 'Saturday',\n",
       " 'Saturday Night',\n",
       " 'Sunday']"
      ]
     },
     "execution_count": 28,
     "metadata": {},
     "output_type": "execute_result"
    }
   ],
   "source": [
    "# Extract all period names\n",
    "period_tags = seven_day.select('.tombstone-container .period-name')\n",
    "print(period_tags)\n",
    "periods = [pt.get_text() for pt in period_tags]\n",
    "periods"
   ]
  },
  {
   "cell_type": "code",
   "execution_count": null,
   "metadata": {
    "id": "cyh8hjHbnAjw"
   },
   "outputs": [
    {
     "name": "stdout",
     "output_type": "stream",
     "text": [
      "Sunny\n",
      "['High: 60 °F', 'Low: 43 °F', 'High: 60 °F', 'Low: 44 °F', 'High: 61 °F', 'Low: 43 °F', 'High: 60 °F', 'Low: 46 °F', 'High: 62 °F']\n",
      "['Today: Sunny, with a high near 60. North northwest wind around 6 mph. ', 'Tonight: Clear, with a low around 43. Light northeast wind. ', 'Thanksgiving Day: Sunny, with a high near 60. Northeast wind 6 to 8 mph. ', 'Thursday Night: Partly cloudy, with a low around 44. North northeast wind around 5 mph. ', 'Friday: Sunny, with a high near 61. Northeast wind around 7 mph. ', 'Friday Night: Partly cloudy, with a low around 43.', 'Saturday: Mostly sunny, with a high near 60.', 'Saturday Night: Partly cloudy, with a low around 46.', 'Sunday: Sunny, with a high near 62.']\n"
     ]
    }
   ],
   "source": [
    "# Create our variables short_descs, temps, descs\n",
    "short_descs = [sd.get_text() for sd in seven_day.select('.tombstone-container .short-desc')]\n",
    "# We need put the . for class and id, because they are CSS selectors\n",
    "temps = [t.get_text() for t in seven_day.select('.tombstone-container .temp')]\n",
    "descs = [d['title'] for d in seven_day.select('.tombstone-container img')]\n",
    "# Do not have to put the dots there because img is not under the division of the tombstone-container\n",
    "\n",
    "print(short_desc)\n",
    "print(temps)\n",
    "print(descs)"
   ]
  },
  {
   "cell_type": "code",
   "execution_count": 31,
   "metadata": {
    "id": "APAm3FchoA4j"
   },
   "outputs": [
    {
     "data": {
      "text/html": [
       "<div>\n",
       "<style scoped>\n",
       "    .dataframe tbody tr th:only-of-type {\n",
       "        vertical-align: middle;\n",
       "    }\n",
       "\n",
       "    .dataframe tbody tr th {\n",
       "        vertical-align: top;\n",
       "    }\n",
       "\n",
       "    .dataframe thead th {\n",
       "        text-align: right;\n",
       "    }\n",
       "</style>\n",
       "<table border=\"1\" class=\"dataframe\">\n",
       "  <thead>\n",
       "    <tr style=\"text-align: right;\">\n",
       "      <th></th>\n",
       "      <th>Period</th>\n",
       "      <th>Short Descriptions</th>\n",
       "      <th>Temperature</th>\n",
       "      <th>Descriptions</th>\n",
       "    </tr>\n",
       "  </thead>\n",
       "  <tbody>\n",
       "    <tr>\n",
       "      <th>0</th>\n",
       "      <td>Today</td>\n",
       "      <td>Sunny</td>\n",
       "      <td>High: 60 °F</td>\n",
       "      <td>Today: Sunny, with a high near 60. North north...</td>\n",
       "    </tr>\n",
       "    <tr>\n",
       "      <th>1</th>\n",
       "      <td>Tonight</td>\n",
       "      <td>Clear</td>\n",
       "      <td>Low: 43 °F</td>\n",
       "      <td>Tonight: Clear, with a low around 43. Light no...</td>\n",
       "    </tr>\n",
       "    <tr>\n",
       "      <th>2</th>\n",
       "      <td>Thanksgiving Day</td>\n",
       "      <td>Sunny</td>\n",
       "      <td>High: 60 °F</td>\n",
       "      <td>Thanksgiving Day: Sunny, with a high near 60. ...</td>\n",
       "    </tr>\n",
       "    <tr>\n",
       "      <th>3</th>\n",
       "      <td>Thursday Night</td>\n",
       "      <td>Partly Cloudy</td>\n",
       "      <td>Low: 44 °F</td>\n",
       "      <td>Thursday Night: Partly cloudy, with a low arou...</td>\n",
       "    </tr>\n",
       "    <tr>\n",
       "      <th>4</th>\n",
       "      <td>Friday</td>\n",
       "      <td>Sunny</td>\n",
       "      <td>High: 61 °F</td>\n",
       "      <td>Friday: Sunny, with a high near 61. Northeast ...</td>\n",
       "    </tr>\n",
       "    <tr>\n",
       "      <th>5</th>\n",
       "      <td>Friday Night</td>\n",
       "      <td>Partly Cloudy</td>\n",
       "      <td>Low: 43 °F</td>\n",
       "      <td>Friday Night: Partly cloudy, with a low around...</td>\n",
       "    </tr>\n",
       "    <tr>\n",
       "      <th>6</th>\n",
       "      <td>Saturday</td>\n",
       "      <td>Mostly Sunny</td>\n",
       "      <td>High: 60 °F</td>\n",
       "      <td>Saturday: Mostly sunny, with a high near 60.</td>\n",
       "    </tr>\n",
       "    <tr>\n",
       "      <th>7</th>\n",
       "      <td>Saturday Night</td>\n",
       "      <td>Partly Cloudy</td>\n",
       "      <td>Low: 46 °F</td>\n",
       "      <td>Saturday Night: Partly cloudy, with a low arou...</td>\n",
       "    </tr>\n",
       "    <tr>\n",
       "      <th>8</th>\n",
       "      <td>Sunday</td>\n",
       "      <td>Sunny</td>\n",
       "      <td>High: 62 °F</td>\n",
       "      <td>Sunday: Sunny, with a high near 62.</td>\n",
       "    </tr>\n",
       "  </tbody>\n",
       "</table>\n",
       "</div>"
      ],
      "text/plain": [
       "             Period Short Descriptions  Temperature  \\\n",
       "0             Today              Sunny  High: 60 °F   \n",
       "1           Tonight              Clear   Low: 43 °F   \n",
       "2  Thanksgiving Day              Sunny  High: 60 °F   \n",
       "3    Thursday Night      Partly Cloudy   Low: 44 °F   \n",
       "4            Friday              Sunny  High: 61 °F   \n",
       "5      Friday Night      Partly Cloudy   Low: 43 °F   \n",
       "6          Saturday       Mostly Sunny  High: 60 °F   \n",
       "7    Saturday Night      Partly Cloudy   Low: 46 °F   \n",
       "8            Sunday              Sunny  High: 62 °F   \n",
       "\n",
       "                                        Descriptions  \n",
       "0  Today: Sunny, with a high near 60. North north...  \n",
       "1  Tonight: Clear, with a low around 43. Light no...  \n",
       "2  Thanksgiving Day: Sunny, with a high near 60. ...  \n",
       "3  Thursday Night: Partly cloudy, with a low arou...  \n",
       "4  Friday: Sunny, with a high near 61. Northeast ...  \n",
       "5  Friday Night: Partly cloudy, with a low around...  \n",
       "6       Saturday: Mostly sunny, with a high near 60.  \n",
       "7  Saturday Night: Partly cloudy, with a low arou...  \n",
       "8                Sunday: Sunny, with a high near 62.  "
      ]
     },
     "execution_count": 31,
     "metadata": {},
     "output_type": "execute_result"
    }
   ],
   "source": [
    "# Step 7: Format the extracted data into a pandas dataset\n",
    "\n",
    "import pandas as pd\n",
    "\n",
    "weather = pd.DataFrame({'Period':periods,\n",
    "                        'Short Descriptions':short_descs,\n",
    "                        'Temperature':temps,\n",
    "                        'Descriptions':descs\n",
    "                        })\n",
    "\n",
    "weather"
   ]
  }
 ],
 "metadata": {
  "colab": {
   "collapsed_sections": [
    "fqNYPFSANcDb",
    "g1DzjSQvPFhV",
    "WZRBLU8uP5Nl",
    "I1lrIRzhSV1e"
   ],
   "provenance": []
  },
  "kernelspec": {
   "display_name": ".venv",
   "language": "python",
   "name": "python3"
  },
  "language_info": {
   "codemirror_mode": {
    "name": "ipython",
    "version": 3
   },
   "file_extension": ".py",
   "mimetype": "text/x-python",
   "name": "python",
   "nbconvert_exporter": "python",
   "pygments_lexer": "ipython3",
   "version": "3.13.0"
  }
 },
 "nbformat": 4,
 "nbformat_minor": 0
}
